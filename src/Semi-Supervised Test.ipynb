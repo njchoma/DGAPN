{
 "cells": [
  {
   "cell_type": "code",
   "execution_count": 1,
   "metadata": {},
   "outputs": [],
   "source": [
    "import os\n",
    "import csv\n",
    "import networkx as nx\n",
    "import pandas as pd\n",
    "from random import shuffle\n",
    "\n",
    "from IPython.display import display, SVG\n",
    "\n",
    "from rdkit import Chem\n",
    "from rdkit.Chem import AllChem\n",
    "from rdkit.Chem import rdDepictor\n",
    "from rdkit.Chem.Draw import rdMolDraw2D\n",
    "from rdkit.Chem import Draw\n",
    "\n",
    "from dataset import get_dataset, preprocess\n",
    "from predict_logp.predict_logp import *\n",
    "from utils.graph_utils import *"
   ]
  },
  {
   "cell_type": "code",
   "execution_count": 2,
   "metadata": {},
   "outputs": [
    {
     "data": {
      "text/html": [
       "<div>\n",
       "<style scoped>\n",
       "    .dataframe tbody tr th:only-of-type {\n",
       "        vertical-align: middle;\n",
       "    }\n",
       "\n",
       "    .dataframe tbody tr th {\n",
       "        vertical-align: top;\n",
       "    }\n",
       "\n",
       "    .dataframe thead th {\n",
       "        text-align: right;\n",
       "    }\n",
       "</style>\n",
       "<table border=\"1\" class=\"dataframe\">\n",
       "  <thead>\n",
       "    <tr style=\"text-align: right;\">\n",
       "      <th></th>\n",
       "      <th>plogp</th>\n",
       "      <th>SMILES</th>\n",
       "    </tr>\n",
       "  </thead>\n",
       "  <tbody>\n",
       "    <tr>\n",
       "      <th>0</th>\n",
       "      <td>4.519903</td>\n",
       "      <td>COC1=CC=C(C2=CC(C3=CC=CC=C3)=CC(C3=CC=C(Br)C=C...</td>\n",
       "    </tr>\n",
       "    <tr>\n",
       "      <th>1</th>\n",
       "      <td>4.297502</td>\n",
       "      <td>COC1=CC=C(C2=CC(C3=CC=CC=C3)=CC(C3=CC=C(I)C=C3...</td>\n",
       "    </tr>\n",
       "    <tr>\n",
       "      <th>2</th>\n",
       "      <td>4.232042</td>\n",
       "      <td>FC(F)(F)C1=CC=CC(NC2=[N+](CCC3=CC=CC=C3)C(C3=C...</td>\n",
       "    </tr>\n",
       "    <tr>\n",
       "      <th>3</th>\n",
       "      <td>4.218235</td>\n",
       "      <td>CCCCCCC1=CC(C2=CC=CC=C2)=[O+]C(C2=CC=CC=C2)=C1</td>\n",
       "    </tr>\n",
       "    <tr>\n",
       "      <th>4</th>\n",
       "      <td>4.167269</td>\n",
       "      <td>COC1=CC=C(NC(=O)C2=CC=C(NC(=S)NC3=CC=C(Cl)C=C3...</td>\n",
       "    </tr>\n",
       "  </tbody>\n",
       "</table>\n",
       "</div>"
      ],
      "text/plain": [
       "      plogp                                             SMILES\n",
       "0  4.519903  COC1=CC=C(C2=CC(C3=CC=CC=C3)=CC(C3=CC=C(Br)C=C...\n",
       "1  4.297502  COC1=CC=C(C2=CC(C3=CC=CC=C3)=CC(C3=CC=C(I)C=C3...\n",
       "2  4.232042  FC(F)(F)C1=CC=CC(NC2=[N+](CCC3=CC=CC=C3)C(C3=C...\n",
       "3  4.218235     CCCCCCC1=CC(C2=CC=CC=C2)=[O+]C(C2=CC=CC=C2)=C1\n",
       "4  4.167269  COC1=CC=C(NC(=O)C2=CC=C(NC(=S)NC3=CC=C(Cl)C=C3..."
      ]
     },
     "execution_count": 2,
     "metadata": {},
     "output_type": "execute_result"
    }
   ],
   "source": [
    "zinc_plogp_data = pd.read_csv(\"gcpn/gym-molecule/gym_molecule/dataset/zinc_plogp_sorted.csv\", header = None, \\\n",
    "                             names = ['plogp', \"SMILES\"])\n",
    "zinc_plogp_data.head()"
   ]
  },
  {
   "cell_type": "code",
   "execution_count": 3,
   "metadata": {},
   "outputs": [],
   "source": [
    "plogp_list = zinc_plogp_data.plogp.values.tolist()\n",
    "smiles_list = zinc_plogp_data.SMILES.values.tolist()"
   ]
  },
  {
   "cell_type": "code",
   "execution_count": 4,
   "metadata": {},
   "outputs": [],
   "source": [
    "assert len(plogp_list)==len(smiles_list)"
   ]
  },
  {
   "cell_type": "code",
   "execution_count": 5,
   "metadata": {},
   "outputs": [],
   "source": [
    "train_data = MolData(plogp_list, smiles_list)"
   ]
  },
  {
   "cell_type": "code",
   "execution_count": 6,
   "metadata": {},
   "outputs": [
    {
     "data": {
      "text/plain": [
       "(Data(edge_attr=[34], edge_index=[2, 34], x=[31, 122]),\n",
       " tensor([4.2320]),\n",
       " Data(edge_index=[2, 961]))"
      ]
     },
     "execution_count": 6,
     "metadata": {},
     "output_type": "execute_result"
    }
   ],
   "source": [
    "train_data.__getitem__(2)"
   ]
  },
  {
   "cell_type": "code",
   "execution_count": 33,
   "metadata": {},
   "outputs": [],
   "source": [
    "mol = Chem.MolFromSmiles(smiles_list[2])\n",
    "g = graph_utils.mol_to_pyg_graph(mol)"
   ]
  },
  {
   "cell_type": "code",
   "execution_count": 38,
   "metadata": {},
   "outputs": [],
   "source": [
    "_=np.random.permutation(len(mol.GetBonds()))"
   ]
  },
  {
   "cell_type": "code",
   "execution_count": 71,
   "metadata": {},
   "outputs": [
    {
     "data": {
      "text/plain": [
       "tensor([[1.5000, 1.5000, 1.0000, 1.0000, 1.5000, 1.5000, 1.0000, 1.5000, 1.5000,\n",
       "         1.0000, 1.5000, 1.5000, 1.0000, 1.5000]])"
      ]
     },
     "execution_count": 71,
     "metadata": {},
     "output_type": "execute_result"
    }
   ],
   "source": [
    "g['edge_attr'][_][20:].float().reshape([1,14])"
   ]
  },
  {
   "cell_type": "code",
   "execution_count": 70,
   "metadata": {},
   "outputs": [
    {
     "name": "stdout",
     "output_type": "stream",
     "text": [
      "torch.Size([1, 14]) torch.Size([2, 14])\n"
     ]
    }
   ],
   "source": [
    "print(g['edge_attr'][_][20:].float().reshape([1,14]).shape, g['edge_index'][:,_][:,20:].float().shape)"
   ]
  },
  {
   "cell_type": "code",
   "execution_count": 75,
   "metadata": {},
   "outputs": [
    {
     "data": {
      "text/plain": [
       "tensor([[26.0000,  5.0000, 13.0000,  0.0000, 17.0000, 28.0000, 20.0000, 22.0000,\n",
       "         29.0000,  1.0000, 24.0000,  8.0000,  1.0000, 19.0000],\n",
       "        [27.0000,  6.0000, 14.0000,  1.0000, 18.0000, 29.0000, 21.0000, 23.0000,\n",
       "         10.0000,  2.0000, 26.0000, 30.0000,  4.0000, 14.0000],\n",
       "        [ 1.5000,  1.5000,  1.0000,  1.0000,  1.5000,  1.5000,  1.0000,  1.5000,\n",
       "          1.5000,  1.0000,  1.5000,  1.5000,  1.0000,  1.5000]])"
      ]
     },
     "execution_count": 75,
     "metadata": {},
     "output_type": "execute_result"
    }
   ],
   "source": [
    "torch.cat((g['edge_index'][:,_][:,20:].float(), g['edge_attr'][_][20:].reshape([1,-1])), 0)"
   ]
  },
  {
   "cell_type": "code",
   "execution_count": 8,
   "metadata": {},
   "outputs": [
    {
     "data": {
      "image/png": "[encoded data removed]",
      "text/plain": [
       "<rdkit.Chem.rdchem.Mol at 0x7f8ccda3e5d0>"
      ]
     },
     "execution_count": 8,
     "metadata": {},
     "output_type": "execute_result"
    }
   ],
   "source": [
    "mol"
   ]
  },
  {
   "cell_type": "code",
   "execution_count": 9,
   "metadata": {},
   "outputs": [],
   "source": [
    "nodes = []\n",
    "for atom in mol.GetAtoms():\n",
    "    #print(atom.GetImplicitValence())\n",
    "    nodes.append(atom_to_node(atom))\n",
    "\n",
    "edges = []\n",
    "for bond in mol.GetBonds():\n",
    "    edges.append(bond_to_edge(bond))"
   ]
  },
  {
   "cell_type": "code",
   "execution_count": 10,
   "metadata": {},
   "outputs": [
    {
     "data": {
      "text/plain": [
       "{'UNSPECIFIED': rdkit.Chem.rdchem.HybridizationType.UNSPECIFIED,\n",
       " 'S': rdkit.Chem.rdchem.HybridizationType.S,\n",
       " 'SP': rdkit.Chem.rdchem.HybridizationType.SP,\n",
       " 'SP2': rdkit.Chem.rdchem.HybridizationType.SP2,\n",
       " 'SP3': rdkit.Chem.rdchem.HybridizationType.SP3,\n",
       " 'SP3D': rdkit.Chem.rdchem.HybridizationType.SP3D,\n",
       " 'SP3D2': rdkit.Chem.rdchem.HybridizationType.SP3D2,\n",
       " 'OTHER': rdkit.Chem.rdchem.HybridizationType.OTHER}"
      ]
     },
     "execution_count": 10,
     "metadata": {},
     "output_type": "execute_result"
    }
   ],
   "source": [
    "Chem.rdchem.HybridizationType.names"
   ]
  },
  {
   "cell_type": "code",
   "execution_count": 23,
   "metadata": {},
   "outputs": [
    {
     "data": {
      "text/plain": [
       "array([[13. , 14. ,  1. ],\n",
       "       [ 4. ,  5. ,  1.5],\n",
       "       [ 7. ,  8. ,  1.5],\n",
       "       [16. , 17. ,  1.5],\n",
       "       [14. , 15. ,  1.5],\n",
       "       [27. , 21. ,  1.5],\n",
       "       [17. , 18. ,  1.5],\n",
       "       [20. , 28. ,  1.5],\n",
       "       [22. , 23. ,  1.5],\n",
       "       [30. ,  4. ,  1.5],\n",
       "       [23. , 24. ,  1.5],\n",
       "       [10. , 11. ,  1.5],\n",
       "       [24. , 26. ,  1.5],\n",
       "       [ 9. , 10. ,  1. ],\n",
       "       [28. , 29. ,  1.5],\n",
       "       [ 1. ,  2. ,  1. ],\n",
       "       [26. , 27. ,  1.5],\n",
       "       [ 6. ,  7. ,  1.5],\n",
       "       [12. , 13. ,  1. ],\n",
       "       [24. , 25. ,  1. ],\n",
       "       [29. , 10. ,  1.5],\n",
       "       [ 1. ,  4. ,  1. ],\n",
       "       [15. , 16. ,  1.5],\n",
       "       [ 1. ,  3. ,  1. ],\n",
       "       [ 8. , 30. ,  1.5],\n",
       "       [21. , 22. ,  1.5],\n",
       "       [ 8. ,  9. ,  1. ],\n",
       "       [18. , 19. ,  1.5],\n",
       "       [ 5. ,  6. ,  1.5],\n",
       "       [20. , 21. ,  1. ],\n",
       "       [11. , 20. ,  1.5],\n",
       "       [ 0. ,  1. ,  1. ],\n",
       "       [11. , 12. ,  1. ],\n",
       "       [19. , 14. ,  1.5]])"
      ]
     },
     "execution_count": 23,
     "metadata": {},
     "output_type": "execute_result"
    }
   ],
   "source": [
    "keep = int(0.8*len(mol.GetBonds()))\n",
    "shuff = np.random.permutation(edges)\n",
    "obs = shuff[keep]\n",
    "target = shuff[keep:]"
   ]
  },
  {
   "cell_type": "code",
   "execution_count": 13,
   "metadata": {},
   "outputs": [
    {
     "data": {
      "text/plain": [
       "[[0, 1, 1.0],\n",
       " [1, 2, 1.0],\n",
       " [1, 3, 1.0],\n",
       " [1, 4, 1.0],\n",
       " [4, 5, 1.5],\n",
       " [5, 6, 1.5],\n",
       " [6, 7, 1.5],\n",
       " [7, 8, 1.5],\n",
       " [8, 9, 1.0],\n",
       " [9, 10, 1.0],\n",
       " [10, 11, 1.5],\n",
       " [11, 12, 1.0],\n",
       " [12, 13, 1.0],\n",
       " [13, 14, 1.0],\n",
       " [14, 15, 1.5],\n",
       " [15, 16, 1.5],\n",
       " [16, 17, 1.5],\n",
       " [17, 18, 1.5],\n",
       " [18, 19, 1.5],\n",
       " [11, 20, 1.5],\n",
       " [20, 21, 1.0],\n",
       " [21, 22, 1.5],\n",
       " [22, 23, 1.5],\n",
       " [23, 24, 1.5],\n",
       " [24, 25, 1.0],\n",
       " [24, 26, 1.5],\n",
       " [26, 27, 1.5],\n",
       " [20, 28, 1.5],\n",
       " [28, 29, 1.5],\n",
       " [8, 30, 1.5],\n",
       " [30, 4, 1.5],\n",
       " [29, 10, 1.5],\n",
       " [19, 14, 1.5],\n",
       " [27, 21, 1.5]]"
      ]
     },
     "execution_count": 13,
     "metadata": {},
     "output_type": "execute_result"
    }
   ],
   "source": [
    "edges"
   ]
  },
  {
   "cell_type": "code",
   "execution_count": 14,
   "metadata": {},
   "outputs": [],
   "source": [
    "nodes = np.array(nodes, dtype = float)[:,1:]"
   ]
  },
  {
   "cell_type": "code",
   "execution_count": 15,
   "metadata": {},
   "outputs": [
    {
     "data": {
      "text/plain": [
       "array([[ 9.,  0.,  0.,  0.,  1.],\n",
       "       [ 6.,  0.,  0.,  0.,  4.],\n",
       "       [ 9.,  0.,  0.,  0.,  1.],\n",
       "       [ 9.,  0.,  0.,  0.,  1.],\n",
       "       [ 6.,  0.,  0.,  1.,  3.],\n",
       "       [ 6.,  0.,  1.,  1.,  2.],\n",
       "       [ 6.,  0.,  1.,  1.,  2.],\n",
       "       [ 6.,  0.,  1.,  1.,  2.],\n",
       "       [ 6.,  0.,  0.,  1.,  3.],\n",
       "       [ 7.,  0.,  1.,  0.,  2.],\n",
       "       [ 6.,  0.,  0.,  1.,  3.],\n",
       "       [ 7.,  1.,  0.,  1.,  3.],\n",
       "       [ 6.,  0.,  2.,  0.,  2.],\n",
       "       [ 6.,  0.,  2.,  0.,  2.],\n",
       "       [ 6.,  0.,  0.,  1.,  3.],\n",
       "       [ 6.,  0.,  1.,  1.,  2.],\n",
       "       [ 6.,  0.,  1.,  1.,  2.],\n",
       "       [ 6.,  0.,  1.,  1.,  2.],\n",
       "       [ 6.,  0.,  1.,  1.,  2.],\n",
       "       [ 6.,  0.,  1.,  1.,  2.],\n",
       "       [ 6.,  0.,  0.,  1.,  3.],\n",
       "       [ 6.,  0.,  0.,  1.,  3.],\n",
       "       [ 6.,  0.,  1.,  1.,  2.],\n",
       "       [ 6.,  0.,  1.,  1.,  2.],\n",
       "       [ 6.,  0.,  0.,  1.,  3.],\n",
       "       [17.,  0.,  0.,  0.,  1.],\n",
       "       [ 6.,  0.,  1.,  1.,  2.],\n",
       "       [ 6.,  0.,  1.,  1.,  2.],\n",
       "       [ 6.,  0.,  1.,  1.,  2.],\n",
       "       [16.,  0.,  0.,  1.,  2.],\n",
       "       [ 6.,  0.,  1.,  1.,  2.]])"
      ]
     },
     "execution_count": 15,
     "metadata": {},
     "output_type": "execute_result"
    }
   ],
   "source": [
    "nodes"
   ]
  },
  {
   "cell_type": "code",
   "execution_count": 16,
   "metadata": {},
   "outputs": [
    {
     "name": "stdout",
     "output_type": "stream",
     "text": [
      "31 34\n"
     ]
    }
   ],
   "source": [
    "print(len(mol.GetAtoms()), len(mol.GetBonds()))"
   ]
  },
  {
   "cell_type": "code",
   "execution_count": 17,
   "metadata": {},
   "outputs": [
    {
     "data": {
      "text/plain": [
       "(31, 4)"
      ]
     },
     "execution_count": 17,
     "metadata": {},
     "output_type": "execute_result"
    }
   ],
   "source": [
    "nodes[:,1:].shape"
   ]
  },
  {
   "cell_type": "code",
   "execution_count": 18,
   "metadata": {},
   "outputs": [
    {
     "data": {
      "text/plain": [
       "tensor([[ 0,  1,  1,  1,  4,  5,  6,  7,  8,  9, 10, 11, 12, 13, 14, 15, 16, 17,\n",
       "         18, 11, 20, 21, 22, 23, 24, 24, 26, 20, 28,  8, 30, 29, 19, 27],\n",
       "        [ 1,  2,  3,  4,  5,  6,  7,  8,  9, 10, 11, 12, 13, 14, 15, 16, 17, 18,\n",
       "         19, 20, 21, 22, 23, 24, 25, 26, 27, 28, 29, 30,  4, 10, 14, 21]])"
      ]
     },
     "execution_count": 18,
     "metadata": {},
     "output_type": "execute_result"
    }
   ],
   "source": [
    "g.edge_index"
   ]
  },
  {
   "cell_type": "code",
   "execution_count": null,
   "metadata": {},
   "outputs": [],
   "source": [
    "#Should I only randomly remove edges that chemically make sense?"
   ]
  }
 ],
 "metadata": {
  "kernelspec": {
   "display_name": "Python 3",
   "language": "python",
   "name": "python3"
  },
  "language_info": {
   "codemirror_mode": {
    "name": "ipython",
    "version": 3
   },
   "file_extension": ".py",
   "mimetype": "text/x-python",
   "name": "python",
   "nbconvert_exporter": "python",
   "pygments_lexer": "ipython3",
   "version": "3.7.7"
  }
 },
 "nbformat": 4,
 "nbformat_minor": 4
}
