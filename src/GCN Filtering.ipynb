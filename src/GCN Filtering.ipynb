{
 "cells": [
  {
   "cell_type": "code",
   "execution_count": 49,
   "metadata": {},
   "outputs": [],
   "source": [
    "import pandas as pd\n",
    "import numpy as np\n",
    "import torch\n",
    "from torch.utils.data import Dataset, DataLoader\n",
    "\n",
    "from rdkit import Chem\n",
    "from rdkit.Chem import AllChem\n",
    "from rdkit.Chem import rdDepictor\n",
    "from rdkit.Chem.Draw import rdMolDraw2D\n",
    "from rdkit.Chem import Draw\n",
    "\n",
    "import networkx as nx\n",
    "\n",
    "from utils.graph_utils import *\n",
    "from predict_logp.predict_logp import *\n",
    "import torch_geometric as pyg"
   ]
  },
  {
   "cell_type": "code",
   "execution_count": 50,
   "metadata": {},
   "outputs": [],
   "source": [
    "if torch.cuda.is_available():\n",
    "    DEVICE = 'cuda'\n",
    "else:\n",
    "    DEVICE = 'cpu'"
   ]
  },
  {
   "cell_type": "markdown",
   "metadata": {},
   "source": [
    "# Loading generated molecules"
   ]
  },
  {
   "cell_type": "code",
   "execution_count": 51,
   "metadata": {},
   "outputs": [],
   "source": [
    "colnames = ['SMILE', 'rew_valid', 'rew_qed', 'rew_sa', 'final_stat', 'rew_env', 'rew_d_step','rew_d_final',\\\n",
    "           'cur_ep_et', 'flag_steric_strain_filter', 'flag_zinc_molecule_filter', 'stop']\n",
    "df_logpen = pd.read_csv(\"../../Downloads/molecule_gen/molecule_zinc_logppen.csv\", header = None, names = colnames)\n",
    "df_qed_condition = pd.read_csv(\"../../Downloads/molecule_gen/molecule_zinc_qed_conditional.csv\", header = None, names = colnames)\n",
    "df_qedsa = pd.read_csv(\"../../Downloads/molecule_gen/molecule_zinc_qedsa.csv\", header = None, names = colnames)\n",
    "df_qed = pd.read_csv(\"../../Downloads/molecule_gen/molecule_zinc_test_conditional.csv\", header = None, names = colnames)"
   ]
  },
  {
   "cell_type": "code",
   "execution_count": 52,
   "metadata": {},
   "outputs": [],
   "source": [
    "df_logpen = df_logpen[~df_logpen[\"SMILE\"].str.contains(\"Iteration\")]\n",
    "df_qed_condition = df_qed_condition[~df_qed_condition[\"SMILE\"].str.contains(\"Iteration\")]\n",
    "df_qedsa = df_qedsa[~df_qedsa[\"SMILE\"].str.contains(\"Iteration\")]\n",
    "df_qed = df_qed[~df_qed[\"SMILE\"].str.contains(\"Iteration\")]"
   ]
  },
  {
   "cell_type": "code",
   "execution_count": 53,
   "metadata": {},
   "outputs": [],
   "source": [
    "#Filter by steric_strain_filter == True, flag_zinc_molecule_filter==True, and sort by qed\n",
    "mol_filter = 'flag_steric_strain_filter == True & flag_zinc_molecule_filter == True'\n",
    "df_logpen = df_logpen.query(mol_filter).sort_values(\"final_stat\", ascending = False)\n",
    "df_qed_condition = df_qed_condition.query(mol_filter).sort_values(\"final_stat\", ascending = False)\n",
    "df_qedsa = df_qedsa.query(mol_filter).sort_values(\"final_stat\", ascending = False)\n",
    "df_qed = df_qed.query(mol_filter).sort_values(\"final_stat\", ascending = False)"
   ]
  },
  {
   "cell_type": "code",
   "execution_count": 54,
   "metadata": {},
   "outputs": [
    {
     "data": {
      "text/plain": [
       "((10321, 12), (4823, 12), (53423, 12), (88242, 12))"
      ]
     },
     "execution_count": 54,
     "metadata": {},
     "output_type": "execute_result"
    }
   ],
   "source": [
    "df_logpen.shape, df_qed_condition.shape, df_qedsa.shape, df_qed.shape"
   ]
  },
  {
   "cell_type": "code",
   "execution_count": 70,
   "metadata": {},
   "outputs": [
    {
     "data": {
      "text/html": [
       "<div>\n",
       "<style scoped>\n",
       "    .dataframe tbody tr th:only-of-type {\n",
       "        vertical-align: middle;\n",
       "    }\n",
       "\n",
       "    .dataframe tbody tr th {\n",
       "        vertical-align: top;\n",
       "    }\n",
       "\n",
       "    .dataframe thead th {\n",
       "        text-align: right;\n",
       "    }\n",
       "</style>\n",
       "<table border=\"1\" class=\"dataframe\">\n",
       "  <thead>\n",
       "    <tr style=\"text-align: right;\">\n",
       "      <th></th>\n",
       "      <th>SMILE</th>\n",
       "      <th>rew_valid</th>\n",
       "      <th>rew_qed</th>\n",
       "      <th>rew_sa</th>\n",
       "      <th>final_stat</th>\n",
       "      <th>rew_env</th>\n",
       "      <th>rew_d_step</th>\n",
       "      <th>rew_d_final</th>\n",
       "      <th>cur_ep_et</th>\n",
       "      <th>flag_steric_strain_filter</th>\n",
       "      <th>flag_zinc_molecule_filter</th>\n",
       "      <th>stop</th>\n",
       "    </tr>\n",
       "  </thead>\n",
       "  <tbody>\n",
       "    <tr>\n",
       "      <th>10356</th>\n",
       "      <td>CCCCC(CC(C)CC)CC(C)(CCCC)C(CCCC)C(Cl)C(C)CC</td>\n",
       "      <td>2.0</td>\n",
       "      <td>0.195422</td>\n",
       "      <td>0.620199</td>\n",
       "      <td>1.327454</td>\n",
       "      <td>3.316815</td>\n",
       "      <td>2.399182e-07</td>\n",
       "      <td>0.020973</td>\n",
       "      <td>3.671941</td>\n",
       "      <td>True</td>\n",
       "      <td>True</td>\n",
       "      <td>True</td>\n",
       "    </tr>\n",
       "    <tr>\n",
       "      <th>8965</th>\n",
       "      <td>CCCCC(CC)(CCC)CC(CC)(CCC)C(CC)CCC</td>\n",
       "      <td>2.0</td>\n",
       "      <td>0.282128</td>\n",
       "      <td>0.666009</td>\n",
       "      <td>1.146174</td>\n",
       "      <td>3.135536</td>\n",
       "      <td>6.174223e-04</td>\n",
       "      <td>0.284012</td>\n",
       "      <td>3.770076</td>\n",
       "      <td>True</td>\n",
       "      <td>True</td>\n",
       "      <td>True</td>\n",
       "    </tr>\n",
       "    <tr>\n",
       "      <th>4470</th>\n",
       "      <td>CCCCCC(C)C(C)=CCCCCC(C)(C)C(C)CC</td>\n",
       "      <td>2.0</td>\n",
       "      <td>0.254441</td>\n",
       "      <td>0.715845</td>\n",
       "      <td>1.092173</td>\n",
       "      <td>3.081535</td>\n",
       "      <td>2.920695e-03</td>\n",
       "      <td>0.147920</td>\n",
       "      <td>3.570815</td>\n",
       "      <td>True</td>\n",
       "      <td>True</td>\n",
       "      <td>True</td>\n",
       "    </tr>\n",
       "    <tr>\n",
       "      <th>5788</th>\n",
       "      <td>C=C(C)C(CC)C(CC)C(=C(CC)OC(C(C)C)C(C)CCCCC)C(C)C</td>\n",
       "      <td>2.0</td>\n",
       "      <td>0.153201</td>\n",
       "      <td>0.619376</td>\n",
       "      <td>1.072826</td>\n",
       "      <td>3.062188</td>\n",
       "      <td>3.829380e-06</td>\n",
       "      <td>0.000680</td>\n",
       "      <td>3.494623</td>\n",
       "      <td>True</td>\n",
       "      <td>True</td>\n",
       "      <td>True</td>\n",
       "    </tr>\n",
       "    <tr>\n",
       "      <th>9620</th>\n",
       "      <td>CCC=CC=C(C)C(Cl)=CC(=CC(Cl)=C1C=CC(C)=C1C(C)C)CC</td>\n",
       "      <td>2.0</td>\n",
       "      <td>0.390786</td>\n",
       "      <td>0.657766</td>\n",
       "      <td>1.025221</td>\n",
       "      <td>3.014583</td>\n",
       "      <td>3.900398e-03</td>\n",
       "      <td>0.036986</td>\n",
       "      <td>3.879980</td>\n",
       "      <td>True</td>\n",
       "      <td>True</td>\n",
       "      <td>True</td>\n",
       "    </tr>\n",
       "    <tr>\n",
       "      <th>...</th>\n",
       "      <td>...</td>\n",
       "      <td>...</td>\n",
       "      <td>...</td>\n",
       "      <td>...</td>\n",
       "      <td>...</td>\n",
       "      <td>...</td>\n",
       "      <td>...</td>\n",
       "      <td>...</td>\n",
       "      <td>...</td>\n",
       "      <td>...</td>\n",
       "      <td>...</td>\n",
       "      <td>...</td>\n",
       "    </tr>\n",
       "    <tr>\n",
       "      <th>379</th>\n",
       "      <td>CC=CC1=C(N)C2=NNC(=O)C(=C3NC(C)(C4=CC5=C4C1=C5...</td>\n",
       "      <td>2.0</td>\n",
       "      <td>0.328158</td>\n",
       "      <td>0.322280</td>\n",
       "      <td>-18.288178</td>\n",
       "      <td>-16.277540</td>\n",
       "      <td>0.000000e+00</td>\n",
       "      <td>2.492597</td>\n",
       "      <td>-10.811681</td>\n",
       "      <td>True</td>\n",
       "      <td>True</td>\n",
       "      <td>False</td>\n",
       "    </tr>\n",
       "    <tr>\n",
       "      <th>1010</th>\n",
       "      <td>CC=C1C=COC2C3CCC4=CCC(C)C5CC(OF)C(=C(CNC)C(CCC...</td>\n",
       "      <td>2.0</td>\n",
       "      <td>0.468325</td>\n",
       "      <td>0.273927</td>\n",
       "      <td>-18.510834</td>\n",
       "      <td>-16.500196</td>\n",
       "      <td>0.000000e+00</td>\n",
       "      <td>2.088650</td>\n",
       "      <td>-11.615422</td>\n",
       "      <td>True</td>\n",
       "      <td>True</td>\n",
       "      <td>False</td>\n",
       "    </tr>\n",
       "    <tr>\n",
       "      <th>1384</th>\n",
       "      <td>CCC=NC1(C)NC2CC(=NC(=O)N(C)C3=NC2=CC=CN=C3)C=C...</td>\n",
       "      <td>2.0</td>\n",
       "      <td>0.688034</td>\n",
       "      <td>0.341180</td>\n",
       "      <td>-18.705708</td>\n",
       "      <td>-16.716347</td>\n",
       "      <td>0.000000e+00</td>\n",
       "      <td>2.256023</td>\n",
       "      <td>-12.219404</td>\n",
       "      <td>True</td>\n",
       "      <td>True</td>\n",
       "      <td>True</td>\n",
       "    </tr>\n",
       "    <tr>\n",
       "      <th>412</th>\n",
       "      <td>O=CC1=CC2=C3C=C4CC=CNCC5=NP=NC=C(C=NC(=CC6=NN=...</td>\n",
       "      <td>2.0</td>\n",
       "      <td>0.429090</td>\n",
       "      <td>0.229343</td>\n",
       "      <td>-18.880343</td>\n",
       "      <td>-16.890981</td>\n",
       "      <td>0.000000e+00</td>\n",
       "      <td>2.413172</td>\n",
       "      <td>-11.205498</td>\n",
       "      <td>True</td>\n",
       "      <td>True</td>\n",
       "      <td>True</td>\n",
       "    </tr>\n",
       "    <tr>\n",
       "      <th>1146</th>\n",
       "      <td>CN1C2=CC3=C2C=C2C(=C3)N3C(Cl)=NC4=NOC5=CC=C5C=...</td>\n",
       "      <td>2.0</td>\n",
       "      <td>0.333082</td>\n",
       "      <td>0.440709</td>\n",
       "      <td>-20.588005</td>\n",
       "      <td>-18.598643</td>\n",
       "      <td>0.000000e+00</td>\n",
       "      <td>2.721926</td>\n",
       "      <td>-12.736814</td>\n",
       "      <td>True</td>\n",
       "      <td>True</td>\n",
       "      <td>True</td>\n",
       "    </tr>\n",
       "  </tbody>\n",
       "</table>\n",
       "<p>10321 rows × 12 columns</p>\n",
       "</div>"
      ],
      "text/plain": [
       "                                                   SMILE  rew_valid   rew_qed  \\\n",
       "10356        CCCCC(CC(C)CC)CC(C)(CCCC)C(CCCC)C(Cl)C(C)CC        2.0  0.195422   \n",
       "8965                   CCCCC(CC)(CCC)CC(CC)(CCC)C(CC)CCC        2.0  0.282128   \n",
       "4470                    CCCCCC(C)C(C)=CCCCCC(C)(C)C(C)CC        2.0  0.254441   \n",
       "5788    C=C(C)C(CC)C(CC)C(=C(CC)OC(C(C)C)C(C)CCCCC)C(C)C        2.0  0.153201   \n",
       "9620    CCC=CC=C(C)C(Cl)=CC(=CC(Cl)=C1C=CC(C)=C1C(C)C)CC        2.0  0.390786   \n",
       "...                                                  ...        ...       ...   \n",
       "379    CC=CC1=C(N)C2=NNC(=O)C(=C3NC(C)(C4=CC5=C4C1=C5...        2.0  0.328158   \n",
       "1010   CC=C1C=COC2C3CCC4=CCC(C)C5CC(OF)C(=C(CNC)C(CCC...        2.0  0.468325   \n",
       "1384   CCC=NC1(C)NC2CC(=NC(=O)N(C)C3=NC2=CC=CN=C3)C=C...        2.0  0.688034   \n",
       "412    O=CC1=CC2=C3C=C4CC=CNCC5=NP=NC=C(C=NC(=CC6=NN=...        2.0  0.429090   \n",
       "1146   CN1C2=CC3=C2C=C2C(=C3)N3C(Cl)=NC4=NOC5=CC=C5C=...        2.0  0.333082   \n",
       "\n",
       "         rew_sa  final_stat    rew_env    rew_d_step  rew_d_final  cur_ep_et  \\\n",
       "10356  0.620199    1.327454   3.316815  2.399182e-07     0.020973   3.671941   \n",
       "8965   0.666009    1.146174   3.135536  6.174223e-04     0.284012   3.770076   \n",
       "4470   0.715845    1.092173   3.081535  2.920695e-03     0.147920   3.570815   \n",
       "5788   0.619376    1.072826   3.062188  3.829380e-06     0.000680   3.494623   \n",
       "9620   0.657766    1.025221   3.014583  3.900398e-03     0.036986   3.879980   \n",
       "...         ...         ...        ...           ...          ...        ...   \n",
       "379    0.322280  -18.288178 -16.277540  0.000000e+00     2.492597 -10.811681   \n",
       "1010   0.273927  -18.510834 -16.500196  0.000000e+00     2.088650 -11.615422   \n",
       "1384   0.341180  -18.705708 -16.716347  0.000000e+00     2.256023 -12.219404   \n",
       "412    0.229343  -18.880343 -16.890981  0.000000e+00     2.413172 -11.205498   \n",
       "1146   0.440709  -20.588005 -18.598643  0.000000e+00     2.721926 -12.736814   \n",
       "\n",
       "      flag_steric_strain_filter flag_zinc_molecule_filter   stop  \n",
       "10356                      True                      True   True  \n",
       "8965                       True                      True   True  \n",
       "4470                       True                      True   True  \n",
       "5788                       True                      True   True  \n",
       "9620                       True                      True   True  \n",
       "...                         ...                       ...    ...  \n",
       "379                        True                      True  False  \n",
       "1010                       True                      True  False  \n",
       "1384                       True                      True   True  \n",
       "412                        True                      True   True  \n",
       "1146                       True                      True   True  \n",
       "\n",
       "[10321 rows x 12 columns]"
      ]
     },
     "execution_count": 70,
     "metadata": {},
     "output_type": "execute_result"
    }
   ],
   "source": [
    "df_logpen"
   ]
  },
  {
   "cell_type": "code",
   "execution_count": 57,
   "metadata": {},
   "outputs": [],
   "source": [
    "logpen_smiles = df_logpen[\"SMILE\"].values[:5000]\n",
    "qed_condition_smiles = df_qed_condition[\"SMILE\"].values[:5000]\n",
    "qedsa_smiles = df_qedsa[\"SMILE\"].values[:5000]\n",
    "qed_smiles = df_qed[\"SMILE\"].values[:5000]"
   ]
  },
  {
   "cell_type": "markdown",
   "metadata": {},
   "source": [
    "# Forward pass on GCN"
   ]
  },
  {
   "cell_type": "code",
   "execution_count": 58,
   "metadata": {},
   "outputs": [],
   "source": [
    "gcn_net = torch.load(\"dock_score_models/default_run/dock_score/best_model.pth\")"
   ]
  },
  {
   "cell_type": "code",
   "execution_count": 59,
   "metadata": {},
   "outputs": [
    {
     "data": {
      "text/plain": [
       "GNN_MyGAT(\n",
       "  (layers): ModuleList(\n",
       "    (0): MyGATConv(121, 512, heads=1)\n",
       "    (1): MyGATConv(512, 512, heads=1)\n",
       "    (2): MyGATConv(512, 512, heads=1)\n",
       "    (3): MyGATConv(512, 512, heads=1)\n",
       "    (4): MyGATConv(512, 512, heads=1)\n",
       "    (5): MyGATConv(512, 512, heads=1)\n",
       "    (6): MyGATConv(512, 512, heads=1)\n",
       "  )\n",
       "  (final_layer): Linear(in_features=512, out_features=1, bias=True)\n",
       "  (act): ReLU()\n",
       ")"
      ]
     },
     "execution_count": 59,
     "metadata": {},
     "output_type": "execute_result"
    }
   ],
   "source": [
    "gcn_net"
   ]
  },
  {
   "cell_type": "code",
   "execution_count": 60,
   "metadata": {},
   "outputs": [],
   "source": [
    "logpen_data = MolData([0]*len(logpen_smiles), logpen_smiles)\n",
    "qed_condition_data = MolData([0]*len(qed_condition_smiles), qed_condition_smiles)\n",
    "qedsa_data = MolData([0]*len(qedsa_smiles), qedsa_smiles)\n",
    "qed_data = MolData([0]*len(qed_smiles), qed_smiles)"
   ]
  },
  {
   "cell_type": "code",
   "execution_count": 61,
   "metadata": {},
   "outputs": [],
   "source": [
    "logpen_dataloader = DataLoader(logpen_data, collate_fn = my_collate, batch_size = 512, num_workers =24)\n",
    "qed_condition_dataloader = DataLoader(qed_condition_data, collate_fn = my_collate, batch_size = 512, num_workers =24)\n",
    "qedsa_dataloader = DataLoader(qedsa_data, collate_fn = my_collate, batch_size = 512, num_workers =24)\n",
    "qed_dataloader = DataLoader(qed_data, collate_fn = my_collate, batch_size = 512, num_workers =24)"
   ]
  },
  {
   "cell_type": "code",
   "execution_count": 62,
   "metadata": {},
   "outputs": [
    {
     "name": "stderr",
     "output_type": "stream",
     "text": [
      "RDKit WARNING: [22:40:14] WARNING: could not find number of expected rings. Switching to an approximate ring finding algorithm.\n",
      "RDKit WARNING: [22:40:14] Conflicting single bond directions around double bond at index 2.\n",
      "RDKit WARNING: [22:40:14]   BondStereo set to STEREONONE and single bond directions set to NONE.\n",
      "RDKit WARNING: [22:40:15] Conflicting single bond directions around double bond at index 7.\n",
      "RDKit WARNING: [22:40:15]   BondStereo set to STEREONONE and single bond directions set to NONE.\n"
     ]
    }
   ],
   "source": [
    "logpen_scores = torch.empty(0)\n",
    "qed_condition_scores = torch.empty(0)\n",
    "qedsa_scores = torch.empty(0)\n",
    "qed_scores = torch.empty(0)\n",
    "\n",
    "for i, (g1,y,g2) in enumerate(logpen_dataloader):\n",
    "    g1 = g1.to(DEVICE)\n",
    "    g2 = g2.to(DEVICE)\n",
    "    y_pred = gcn_net(g1, g2.edge_index)\n",
    "    logpen_scores = torch.cat((logpen_scores, y_pred))\n",
    "    \n",
    "for i, (g1,y,g2) in enumerate(qed_condition_dataloader):\n",
    "    g1 = g1.to(DEVICE)\n",
    "    g2 = g2.to(DEVICE)\n",
    "    y_pred = gcn_net(g1, g2.edge_index)\n",
    "    qed_condition_scores = torch.cat((qed_condition_scores, y_pred))\n",
    "\n",
    "for i, (g1,y,g2) in enumerate(qedsa_dataloader):\n",
    "    g1 = g1.to(DEVICE)\n",
    "    g2 = g2.to(DEVICE)\n",
    "    y_pred = gcn_net(g1, g2.edge_index)\n",
    "    qedsa_scores = torch.cat((qedsa_scores, y_pred))\n",
    "\n",
    "for i, (g1,y,g2) in enumerate(qed_dataloader):\n",
    "    g1 = g1.to(DEVICE)\n",
    "    g2 = g2.to(DEVICE)\n",
    "    y_pred = gcn_net(g1, g2.edge_index)\n",
    "    qed_scores = torch.cat((qed_scores, y_pred))"
   ]
  },
  {
   "cell_type": "code",
   "execution_count": 63,
   "metadata": {},
   "outputs": [],
   "source": [
    "logpen_scores = logpen_scores.detach().numpy()\n",
    "qed_condition_scores = qed_condition_scores.detach().numpy()\n",
    "qedsa_scores = qedsa_scores.detach().numpy()\n",
    "qed_scores = qed_scores.detach().numpy()"
   ]
  },
  {
   "cell_type": "code",
   "execution_count": 65,
   "metadata": {},
   "outputs": [],
   "source": [
    "top_logpen_mols = logpen_scores.argsort()[:10]\n",
    "top_qed_condition_mols = qed_condition_scores.argsort()[:10]\n",
    "top_qedsa_mols = qedsa_scores.argsort()[:10]\n",
    "top_qed_mols = qed_scores.argsort()[:10]"
   ]
  },
  {
   "cell_type": "code",
   "execution_count": 66,
   "metadata": {},
   "outputs": [],
   "source": [
    "top_logpen_smiles = logpen_smiles[top_logpen_mols]\n",
    "top_qed_condition_smiles = qed_condition_smiles[top_qed_condition_mols]\n",
    "top_qedsa_smiles = qedsa_smiles[top_qedsa_mols]\n",
    "top_qed_smiles = qed_smiles[top_qed_mols]"
   ]
  },
  {
   "cell_type": "code",
   "execution_count": 67,
   "metadata": {},
   "outputs": [],
   "source": [
    "top_logpen_molecules = [Chem.MolFromSmiles(i) for i in top_logpen_smiles]\n",
    "top_qed_condition_molecules = [Chem.MolFromSmiles(i) for i in top_qed_condition_smiles]\n",
    "top_qedsa_molecules = [Chem.MolFromSmiles(i) for i in top_qedsa_smiles]\n",
    "top_qed_molecules = [Chem.MolFromSmiles(i) for i in top_qed_smiles]\n",
    "\n",
    "img = Draw.MolsToGridImage(top_logpen_molecules, subImgSize=(300, 300), molsPerRow=3, useSVG=False)\n",
    "img.save('ToplogpenMolecules.png')\n",
    "img = Draw.MolsToGridImage(top_qed_condition_molecules, subImgSize=(300, 300), molsPerRow=3, useSVG=False)\n",
    "img.save('TopqedcondMolecules.png')\n",
    "img = Draw.MolsToGridImage(top_qedsa_molecules, subImgSize=(300, 300), molsPerRow=3, useSVG=False)\n",
    "img.save('TopqedsaMolecules.png')\n",
    "img = Draw.MolsToGridImage(top_qed_molecules, subImgSize=(300, 300), molsPerRow=3, useSVG=False)\n",
    "img.save('TopqedMolecules.png')"
   ]
  },
  {
   "cell_type": "code",
   "execution_count": 74,
   "metadata": {},
   "outputs": [
    {
     "data": {
      "text/plain": [
       "array([0.20509399, 0.09190346, 0.27486826, 0.11773375, 0.16423396,\n",
       "       0.11022592, 0.5820904 , 0.17021597, 0.30879826, 0.33916267])"
      ]
     },
     "execution_count": 74,
     "metadata": {},
     "output_type": "execute_result"
    }
   ],
   "source": [
    "df_logpen.iloc[top_logpen_mols,]['rew_qed'].values"
   ]
  },
  {
   "cell_type": "code",
   "execution_count": 75,
   "metadata": {},
   "outputs": [
    {
     "data": {
      "text/plain": [
       "array([-21.731936, -19.865137, -18.112387, -17.971996, -17.462837,\n",
       "       -16.802916, -16.79058 , -16.767763, -16.709795, -16.265676],\n",
       "      dtype=float32)"
      ]
     },
     "execution_count": 75,
     "metadata": {},
     "output_type": "execute_result"
    }
   ],
   "source": [
    "logpen_scores[top_logpen_mols]"
   ]
  },
  {
   "cell_type": "code",
   "execution_count": null,
   "metadata": {},
   "outputs": [],
   "source": []
  }
 ],
 "metadata": {
  "kernelspec": {
   "display_name": "Python 3",
   "language": "python",
   "name": "python3"
  },
  "language_info": {
   "codemirror_mode": {
    "name": "ipython",
    "version": 3
   },
   "file_extension": ".py",
   "mimetype": "text/x-python",
   "name": "python",
   "nbconvert_exporter": "python",
   "pygments_lexer": "ipython3",
   "version": "3.7.7"
  }
 },
 "nbformat": 4,
 "nbformat_minor": 4
}
