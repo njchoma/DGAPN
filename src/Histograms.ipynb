{
 "cells": [
  {
   "cell_type": "code",
   "execution_count": 1,
   "metadata": {},
   "outputs": [],
   "source": [
    "import pandas as pd\n",
    "import numpy as np\n",
    "import torch\n",
    "from torch.utils.data import Dataset, DataLoader\n",
    "\n",
    "from rdkit import Chem\n",
    "from rdkit.Chem import AllChem\n",
    "from rdkit.Chem import rdDepictor\n",
    "from rdkit.Chem.Draw import rdMolDraw2D\n",
    "from rdkit.Chem import Draw\n",
    "\n",
    "import networkx as nx\n",
    "\n",
    "from utils.graph_utils import *\n",
    "from dataset.preprocess import *\n",
    "from predict_logp.predict_logp import *\n",
    "import torch_geometric as pyg"
   ]
  },
  {
   "cell_type": "code",
   "execution_count": 2,
   "metadata": {},
   "outputs": [],
   "source": [
    "def read_data(dataset_path):\n",
    "    all_logp = []\n",
    "    all_smiles = []\n",
    "    with open(dataset_path, newline='') as csvfile:\n",
    "        reader = csv.reader(csvfile)\n",
    "\n",
    "        for i, (logp, smiles) in enumerate(reader):\n",
    "            # Some fields are empty, if logp is empty it will be caught by the exception. If smile is empty, conditional kicks in.\n",
    "            try:\n",
    "                if smiles is not None:\n",
    "                    all_logp.append(float(logp))\n",
    "                    all_smiles.append(smiles)\n",
    "                else:\n",
    "                    continue\n",
    "            except:\n",
    "                print(\"Row \" + str(i) + \"was not read.\")\n",
    "                continue\n",
    "    return all_logp, all_smiles"
   ]
  },
  {
   "cell_type": "code",
   "execution_count": 4,
   "metadata": {},
   "outputs": [
    {
     "name": "stdout",
     "output_type": "stream",
     "text": [
      "Row 6109315was not read.\n"
     ]
    }
   ],
   "source": [
    "scores, smiles = read_data(\"/Users/ADChen/Downloads/MD/2col/3CLPro_7BQY_A_1_F.Orderable_zinc_db_enaHLL.2col.csv\")"
   ]
  },
  {
   "cell_type": "code",
   "execution_count": 5,
   "metadata": {},
   "outputs": [],
   "source": [
    "train_data, valid_data, test_data = create_datasets(scores, smiles)\n",
    "test_labels = np.array(test_data.logp)"
   ]
  },
  {
   "cell_type": "code",
   "execution_count": 21,
   "metadata": {},
   "outputs": [],
   "source": [
    "def dock_score_weights(scores):                        \n",
    "    weights = np.zeros(len(scores))                                          \n",
    "    for idx, score in enumerate(scores):\n",
    "        if score < -6:\n",
    "            weight = 1\n",
    "        else:\n",
    "            weight = 0.1\n",
    "        weights[idx] = weight                               \n",
    "    return weights      "
   ]
  },
  {
   "cell_type": "code",
   "execution_count": 27,
   "metadata": {},
   "outputs": [
    {
     "data": {
      "text/plain": [
       "array([-7.554443, -9.330653, -8.967405, ..., -8.842321, -9.187403,\n",
       "       -7.879792])"
      ]
     },
     "execution_count": 27,
     "metadata": {},
     "output_type": "execute_result"
    }
   ],
   "source": [
    "test_labels"
   ]
  },
  {
   "cell_type": "code",
   "execution_count": 23,
   "metadata": {},
   "outputs": [],
   "source": [
    "_= dock_score_weights(test_labels)"
   ]
  },
  {
   "cell_type": "code",
   "execution_count": 34,
   "metadata": {},
   "outputs": [],
   "source": [
    "weights = torch.DoubleTensor(_)                                       \n",
    "sampler = torch.utils.data.sampler.WeightedRandomSampler(weights, len(weights))                     \n",
    "                                                                                \n",
    "test_loader = torch.utils.data.DataLoader(test_data, batch_size=512, sampler = sampler, num_workers=24)     "
   ]
  },
  {
   "cell_type": "code",
   "execution_count": 9,
   "metadata": {},
   "outputs": [
    {
     "data": {
      "image/png": "[encoded data removed]",
      "text/plain": [
       "<Figure size 432x288 with 1 Axes>"
      ]
     },
     "metadata": {
      "needs_background": "light"
     },
     "output_type": "display_data"
    }
   ],
   "source": [
    "import matplotlib.pyplot as plt\n",
    "plt.hist(test_labels, bins = 30, log=True);"
   ]
  },
  {
   "cell_type": "code",
   "execution_count": 10,
   "metadata": {},
   "outputs": [
    {
     "data": {
      "image/png": "[encoded data removed]",
      "text/plain": [
       "<Figure size 432x288 with 1 Axes>"
      ]
     },
     "metadata": {
      "needs_background": "light"
     },
     "output_type": "display_data"
    }
   ],
   "source": [
    "plt.hist(test_labels[test_labels<-11], bins = 30, log=True);"
   ]
  },
  {
   "cell_type": "code",
   "execution_count": 15,
   "metadata": {},
   "outputs": [
    {
     "data": {
      "image/png": "[encoded data removed]",
      "text/plain": [
       "<Figure size 432x288 with 1 Axes>"
      ]
     },
     "metadata": {
      "needs_background": "light"
     },
     "output_type": "display_data"
    }
   ],
   "source": [
    "train_labels = np.array(train_data.logp)\n",
    "plt.hist(train_labels, bins = 30, log=True);"
   ]
  },
  {
   "cell_type": "code",
   "execution_count": 16,
   "metadata": {},
   "outputs": [
    {
     "data": {
      "image/png": "[encoded data removed]",
      "text/plain": [
       "<Figure size 432x288 with 1 Axes>"
      ]
     },
     "metadata": {
      "needs_background": "light"
     },
     "output_type": "display_data"
    }
   ],
   "source": [
    "plt.hist(train_labels[train_labels < -11], bins = 30, log=True);"
   ]
  },
  {
   "cell_type": "code",
   "execution_count": null,
   "metadata": {},
   "outputs": [],
   "source": []
  }
 ],
 "metadata": {
  "kernelspec": {
   "display_name": "Python 3",
   "language": "python",
   "name": "python3"
  },
  "language_info": {
   "codemirror_mode": {
    "name": "ipython",
    "version": 3
   },
   "file_extension": ".py",
   "mimetype": "text/x-python",
   "name": "python",
   "nbconvert_exporter": "python",
   "pygments_lexer": "ipython3",
   "version": "3.7.7"
  }
 },
 "nbformat": 4,
 "nbformat_minor": 4
}
