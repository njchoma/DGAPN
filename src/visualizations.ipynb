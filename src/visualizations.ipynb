{
 "cells": [
  {
   "cell_type": "code",
   "execution_count": null,
   "metadata": {},
   "outputs": [],
   "source": [
    "import os\n",
    "import csv\n",
    "import networkx as nx\n",
    "\n",
    "from random import shuffle\n",
    "\n",
    "from IPython.display import display, SVG\n",
    "\n",
    "from rdkit import Chem\n",
    "from rdkit.Chem import AllChem\n",
    "from rdkit.Chem import rdDepictor\n",
    "from rdkit.Chem.Draw import rdMolDraw2D\n",
    "from rdkit.Chem import Draw\n",
    "\n",
    "from dataset import get_dataset, preprocess"
   ]
  },
  {
   "cell_type": "code",
   "execution_count": null,
   "metadata": {},
   "outputs": [],
   "source": [
    "DATA=os.getenv('DATA')\n",
    "ARTIFACTS=os.getenv('ARTIFACTS')\n",
    "\n",
    "this_name = 'exaLearnMol'\n",
    "data_path = os.path.join(DATA, this_name)\n",
    "artifact_path = os.path.join(ARTIFACTS, this_name)"
   ]
  },
  {
   "cell_type": "code",
   "execution_count": null,
   "metadata": {},
   "outputs": [],
   "source": [
    "data_filepath = get_dataset.main(data_path)\n",
    "logp, smiles = preprocess.main(data_filepath)\n",
    "\n",
    "print(\"{} data points\".format(len(logp)))"
   ]
  },
  {
   "cell_type": "code",
   "execution_count": null,
   "metadata": {},
   "outputs": [],
   "source": [
    "def mol_to_nx(mol):\n",
    "    G = nx.Graph()\n",
    "\n",
    "    for atom in mol.GetAtoms():\n",
    "        G.add_node(atom.GetIdx(),\n",
    "                   symbol=atom.GetSymbol(),\n",
    "                   formal_charge=atom.GetFormalCharge(),\n",
    "                   implicit_valence=atom.GetImplicitValence(),\n",
    "                   ring_atom=atom.IsInRing(),\n",
    "                   degree=atom.GetDegree(),\n",
    "                   hybridization=atom.GetHybridization())\n",
    "    for bond in mol.GetBonds():\n",
    "        G.add_edge(bond.GetBeginAtomIdx(),\n",
    "                   bond.GetEndAtomIdx(),\n",
    "                   bond_type=bond.GetBondType())\n",
    "    return G"
   ]
  },
  {
   "cell_type": "code",
   "execution_count": null,
   "metadata": {},
   "outputs": [],
   "source": [
    "idx = 9433\n",
    "lp = logp[idx]\n",
    "sm = smiles[idx]\n",
    "print(lp, sm)\n",
    "\n",
    "mol = Chem.MolFromSmiles(sm)"
   ]
  },
  {
   "cell_type": "code",
   "execution_count": null,
   "metadata": {},
   "outputs": [],
   "source": [
    "sample_idx = [i for i in range(len(logp))]\n",
    "shuffle(sample_idx)\n",
    "\n",
    "indices = [0, 100000, 200000, 240000, 249000, 249452]\n",
    "# indices = sample_idx[:20]\n",
    "\n",
    "\n",
    "my_molecules = [Chem.MolFromSmiles(smiles[i]) for i in indices]\n",
    "my_logp = [str(logp[i]) for i in indices]\n",
    "\n",
    "Draw.MolsToGridImage(my_molecules, subImgSize=(300, 300), molsPerRow=3, legends=my_logp, useSVG=False)\n"
   ]
  }
 ],
 "metadata": {
  "kernelspec": {
   "display_name": "Python 3",
   "language": "python",
   "name": "python3"
  },
  "language_info": {
   "codemirror_mode": {
    "name": "ipython",
    "version": 3
   },
   "file_extension": ".py",
   "mimetype": "text/x-python",
   "name": "python",
   "nbconvert_exporter": "python",
   "pygments_lexer": "ipython3",
   "version": "3.6.10"
  }
 },
 "nbformat": 4,
 "nbformat_minor": 4
}
