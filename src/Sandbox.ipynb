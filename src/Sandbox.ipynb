{
 "cells": [
  {
   "cell_type": "code",
   "execution_count": 27,
   "metadata": {},
   "outputs": [],
   "source": [
    "import pandas as pd\n",
    "import numpy as np\n",
    "import torch\n",
    "from torch.utils.data import Dataset, DataLoader\n",
    "import scipy.stats as ss\n",
    "import matplotlib.pyplot as plt\n",
    "\n",
    "from rdkit import Chem\n",
    "from rdkit.Chem import AllChem\n",
    "from rdkit.Chem import rdDepictor\n",
    "from rdkit.Chem.Draw import rdMolDraw2D\n",
    "from rdkit.Chem import Draw\n",
    "\n",
    "import networkx as nx\n",
    "\n",
    "from utils.graph_utils import *\n",
    "from dataset.preprocess import *\n",
    "from predict_logp.predict_logp import *\n",
    "import torch_geometric as pyg"
   ]
  },
  {
   "cell_type": "code",
   "execution_count": 11,
   "metadata": {},
   "outputs": [],
   "source": [
    "def compute_baseline_error(scores):\n",
    "    mean = scores.mean()\n",
    "    sq_sum = np.sum(np.square(scores - mean)) / len(scores)\n",
    "    return sq_sum"
   ]
  },
  {
   "cell_type": "code",
   "execution_count": 2,
   "metadata": {},
   "outputs": [],
   "source": [
    "def read_data(dataset_path):\n",
    "    all_logp = []\n",
    "    all_smiles = []\n",
    "    with open(dataset_path, newline='') as csvfile:\n",
    "        reader = csv.reader(csvfile)\n",
    "\n",
    "        for i, (logp, smiles) in enumerate(reader):\n",
    "            # Some fields are empty, if logp is empty it will be caught by the exception. If smile is empty, conditional kicks in.\n",
    "            try:\n",
    "                if smiles is not None:\n",
    "                    all_logp.append(float(logp))\n",
    "                    all_smiles.append(smiles)\n",
    "                else:\n",
    "                    continue\n",
    "            except:\n",
    "                print(\"Row \" + str(i) + \"was not read.\")\n",
    "                continue\n",
    "    return all_logp, all_smiles"
   ]
  },
  {
   "cell_type": "code",
   "execution_count": 17,
   "metadata": {},
   "outputs": [],
   "source": [
    "scores, smiles = read_data(\"/Users/ADChen/Downloads/MD/2col/NPRBD_6VYO_A_1_F.Orderable_zinc_db_enaHLL.2col.csv\")"
   ]
  },
  {
   "cell_type": "code",
   "execution_count": 18,
   "metadata": {},
   "outputs": [],
   "source": [
    "train_data, valid_data, test_data = create_datasets(scores, smiles)\n",
    "test_labels = np.array(test_data.logp)"
   ]
  },
  {
   "cell_type": "code",
   "execution_count": 19,
   "metadata": {},
   "outputs": [],
   "source": [
    "sort_idx = np.argsort(test_labels)\n",
    "test_labels_sorted = test_labels[sort_idx]\n"
   ]
  },
  {
   "cell_type": "code",
   "execution_count": 21,
   "metadata": {},
   "outputs": [
    {
     "data": {
      "text/plain": [
       "1.02446528114315"
      ]
     },
     "execution_count": 21,
     "metadata": {},
     "output_type": "execute_result"
    }
   ],
   "source": [
    "compute_baseline_error(test_labels)"
   ]
  },
  {
   "cell_type": "code",
   "execution_count": 22,
   "metadata": {
    "scrolled": true
   },
   "outputs": [
    {
     "data": {
      "text/plain": [
       "61013"
      ]
     },
     "execution_count": 22,
     "metadata": {},
     "output_type": "execute_result"
    }
   ],
   "source": [
    "int(len(test_labels)//20)"
   ]
  },
  {
   "cell_type": "code",
   "execution_count": 24,
   "metadata": {},
   "outputs": [
    {
     "data": {
      "text/plain": [
       "-5.492459"
      ]
     },
     "execution_count": 24,
     "metadata": {},
     "output_type": "execute_result"
    }
   ],
   "source": [
    "test_labels[61013]"
   ]
  },
  {
   "cell_type": "code",
   "execution_count": 6,
   "metadata": {},
   "outputs": [
    {
     "data": {
      "text/plain": [
       "102717"
      ]
     },
     "execution_count": 6,
     "metadata": {},
     "output_type": "execute_result"
    }
   ],
   "source": [
    "sum(test_labels<-11)"
   ]
  },
  {
   "cell_type": "code",
   "execution_count": 88,
   "metadata": {},
   "outputs": [],
   "source": [
    "# For weighted sampling \n",
    "def dock_score_weights(scores):                        \n",
    "    weights = np.zeros(len(scores))                                          \n",
    "    for idx, score in enumerate(scores):\n",
    "        if score < -6:\n",
    "            weight = 1\n",
    "        else:\n",
    "            weight = 0.1\n",
    "        weights[idx] = weight                               \n",
    "    return weights      "
   ]
  },
  {
   "cell_type": "code",
   "execution_count": 89,
   "metadata": {},
   "outputs": [
    {
     "data": {
      "text/plain": [
       "1166893"
      ]
     },
     "execution_count": 89,
     "metadata": {},
     "output_type": "execute_result"
    }
   ],
   "source": [
    "len(test_labels)"
   ]
  },
  {
   "cell_type": "code",
   "execution_count": 90,
   "metadata": {},
   "outputs": [],
   "source": [
    "from scipy.stats import pearsonr\n",
    "def tail_corr(a, b):\n",
    "    assert len(a) == len(b)\n",
    "    tail_corr = np.array([pearsonr(a[:i], b[:i])[0] for i in np.arange(30, len(a))], dtype=float)\n",
    "    tail_corr = np.insert(tail_corr, 0, np.repeat(np.nan, 30))\n",
    "    return tail_corr"
   ]
  },
  {
   "cell_type": "markdown",
   "metadata": {},
   "source": [
    "# Custom Loss functions"
   ]
  },
  {
   "cell_type": "code",
   "execution_count": 168,
   "metadata": {},
   "outputs": [
    {
     "name": "stdout",
     "output_type": "stream",
     "text": [
      "tensor([[-0.3276, -1.2283],\n",
      "        [ 0.0085,  0.0320]])\n"
     ]
    }
   ],
   "source": [
    "def exp_weighted_mse(output, target):\n",
    "    loss = torch.mean(torch.exp(-0.4*(target+5))*(output - target)**2)\n",
    "    return loss\n",
    "\n",
    "model = torch.nn.Linear(2, 2)\n",
    "x = torch.randn(1, 2)\n",
    "target = torch.randn(1, 2)\n",
    "output = model(x)\n",
    "loss = exp_weighted_mse(output, target)\n",
    "loss.backward()\n",
    "print(model.weight.grad)"
   ]
  },
  {
   "cell_type": "code",
   "execution_count": 174,
   "metadata": {},
   "outputs": [
    {
     "data": {
      "text/plain": [
       "tensor(0.6595, grad_fn=<MeanBackward0>)"
      ]
     },
     "execution_count": 174,
     "metadata": {},
     "output_type": "execute_result"
    }
   ],
   "source": [
    "criterion(output,target)"
   ]
  },
  {
   "cell_type": "code",
   "execution_count": 173,
   "metadata": {},
   "outputs": [],
   "source": [
    "criterion = exp_weighted_mse"
   ]
  },
  {
   "cell_type": "code",
   "execution_count": 169,
   "metadata": {},
   "outputs": [
    {
     "data": {
      "text/plain": [
       "tensor([[ 0.1011, -0.2856]], grad_fn=<AddmmBackward>)"
      ]
     },
     "execution_count": 169,
     "metadata": {},
     "output_type": "execute_result"
    }
   ],
   "source": [
    "output"
   ]
  },
  {
   "cell_type": "code",
   "execution_count": 170,
   "metadata": {},
   "outputs": [
    {
     "data": {
      "text/plain": [
       "Parameter containing:\n",
       "tensor([[-0.1056, -0.2275],\n",
       "        [ 0.6924, -0.0929]], requires_grad=True)"
      ]
     },
     "execution_count": 170,
     "metadata": {},
     "output_type": "execute_result"
    }
   ],
   "source": [
    "model.weight"
   ]
  },
  {
   "cell_type": "code",
   "execution_count": 171,
   "metadata": {},
   "outputs": [
    {
     "data": {
      "text/plain": [
       "Parameter containing:\n",
       "tensor([-0.3982, -0.1065], requires_grad=True)"
      ]
     },
     "execution_count": 171,
     "metadata": {},
     "output_type": "execute_result"
    }
   ],
   "source": [
    "model.bias"
   ]
  },
  {
   "cell_type": "markdown",
   "metadata": {},
   "source": [
    "# Histograms"
   ]
  },
  {
   "cell_type": "markdown",
   "metadata": {},
   "source": [
    "Want to explore parameter space of exponential weighting and just upsampling. \n",
    "- Try plotting different random exponentials on distribution of scores.\n",
    "- Figure out how to do explore upsampling"
   ]
  },
  {
   "cell_type": "code",
   "execution_count": 90,
   "metadata": {},
   "outputs": [],
   "source": [
    "global _abc"
   ]
  },
  {
   "cell_type": "code",
   "execution_count": 84,
   "metadata": {},
   "outputs": [
    {
     "data": {
      "text/plain": [
       "2.25"
      ]
     },
     "execution_count": 84,
     "metadata": {},
     "output_type": "execute_result"
    }
   ],
   "source": [
    "np.percentile(np.arange(10), 25)"
   ]
  },
  {
   "cell_type": "code",
   "execution_count": 82,
   "metadata": {},
   "outputs": [
    {
     "data": {
      "text/plain": [
       "0.8281952972559741"
      ]
     },
     "execution_count": 82,
     "metadata": {},
     "output_type": "execute_result"
    }
   ],
   "source": [
    "np.random.uniform(0.5,1,1)[0]"
   ]
  },
  {
   "cell_type": "code",
   "execution_count": 75,
   "metadata": {},
   "outputs": [
    {
     "data": {
      "text/plain": [
       "array([0.25      , 0.24217403, 0.23459303, 0.22724936, 0.22013557,\n",
       "       0.21324447, 0.20656908, 0.20010267, 0.19383867, 0.18777077,\n",
       "       0.18189281, 0.17619886, 0.17068315, 0.1653401 , 0.16016431,\n",
       "       0.15515054, 0.15029372, 0.14558895, 0.14103144, 0.13661661,\n",
       "       0.13233998, 0.12819722, 0.12418415, 0.1202967 , 0.11653094,\n",
       "       0.11288307, 0.10934939, 0.10592633, 0.10261042, 0.09939832,\n",
       "       0.09628676, 0.09327261, 0.09035281, 0.08752442, 0.08478456,\n",
       "       0.08213048, 0.07955947, 0.07706895, 0.07465639, 0.07231936,\n",
       "       0.07005548, 0.06786247, 0.06573811, 0.06368025, 0.06168681,\n",
       "       0.05975577, 0.05788518, 0.05607315, 0.05431784, 0.05261748,\n",
       "       0.05097035, 0.04937478, 0.04782916, 0.04633192, 0.04488155,\n",
       "       0.04347658, 0.0421156 , 0.04079721, 0.0395201 , 0.03828297,\n",
       "       0.03708456, 0.03592367, 0.03479912, 0.03370977, 0.03265452,\n",
       "       0.03163231, 0.0306421 , 0.02968288, 0.02875369, 0.02785359,\n",
       "       0.02698166, 0.02613703, 0.02531884, 0.02452626, 0.02375849,\n",
       "       0.02301476, 0.02229431, 0.02159641, 0.02092036, 0.02026547,\n",
       "       0.01963108, 0.01901655, 0.01842126, 0.0178446 , 0.017286  ,\n",
       "       0.01674488, 0.0162207 , 0.01571293, 0.01522105, 0.01474457,\n",
       "       0.01428301, 0.0138359 , 0.01340278, 0.01298322, 0.01257679,\n",
       "       0.01218309, 0.01180171, 0.01143227, 0.0110744 , 0.01072773])"
      ]
     },
     "execution_count": 75,
     "metadata": {},
     "output_type": "execute_result"
    }
   ],
   "source": [
    "np.exp(-(x-min(test_labels))/4)/4"
   ]
  },
  {
   "cell_type": "code",
   "execution_count": 93,
   "metadata": {},
   "outputs": [
    {
     "data": {
      "text/plain": [
       "<matplotlib.legend.Legend at 0x7fca44cab490>"
      ]
     },
     "execution_count": 93,
     "metadata": {},
     "output_type": "execute_result"
    },
    {
     "data": {
      "image/png": "[encoded data removed]",
      "text/plain": [
       "<Figure size 576x576 with 1 Axes>"
      ]
     },
     "metadata": {
      "needs_background": "light"
     },
     "output_type": "display_data"
    }
   ],
   "source": [
    "fig = plt.figure(figsize=(8,8))\n",
    "ax  = fig.add_subplot(111)\n",
    "rv_max = ss.expon(loc = min(test_labels), scale = 4)\n",
    "rv_min = ss.expon(loc = min(test_labels), scale = 1)\n",
    "x = np.linspace(min(test_labels),max(test_labels),100)\n",
    "for i in np.random.uniform(1,4,3):\n",
    "    ax.plot(x, ss.expon(loc = min(test_labels), scale = i).pdf(x), label = \"Scale = \" + str(round(i,2)))\n",
    "ax.plot(x, rv_max.pdf(x), label = \"Scale = 4\")\n",
    "ax.plot(x, rv_min.pdf(x), label = \"Scale = 1\");\n",
    "ax.legend()"
   ]
  },
  {
   "cell_type": "code",
   "execution_count": 10,
   "metadata": {},
   "outputs": [
    {
     "data": {
      "image/png": "[encoded data removed]",
      "text/plain": [
       "<Figure size 432x288 with 1 Axes>"
      ]
     },
     "metadata": {
      "needs_background": "light"
     },
     "output_type": "display_data"
    }
   ],
   "source": [
    "plt.hist(test_labels[test_labels<-11], bins = 30, log=True);"
   ]
  },
  {
   "cell_type": "code",
   "execution_count": 15,
   "metadata": {},
   "outputs": [
    {
     "data": {
      "image/png": "[encoded data removed]",
      "text/plain": [
       "<Figure size 432x288 with 1 Axes>"
      ]
     },
     "metadata": {
      "needs_background": "light"
     },
     "output_type": "display_data"
    }
   ],
   "source": [
    "train_labels = np.array(train_data.logp)\n",
    "plt.hist(train_labels, bins = 30, log=True);"
   ]
  },
  {
   "cell_type": "code",
   "execution_count": 16,
   "metadata": {},
   "outputs": [
    {
     "data": {
      "image/png": "[encoded data removed]",
      "text/plain": [
       "<Figure size 432x288 with 1 Axes>"
      ]
     },
     "metadata": {
      "needs_background": "light"
     },
     "output_type": "display_data"
    }
   ],
   "source": [
    "plt.hist(train_labels[train_labels < -11], bins = 30, log=True);"
   ]
  },
  {
   "cell_type": "markdown",
   "metadata": {},
   "source": [
    "# Latent space visuzliations"
   ]
  },
  {
   "cell_type": "code",
   "execution_count": null,
   "metadata": {},
   "outputs": [],
   "source": [
    "import torch.nn as nn\n",
    "import torch.optim as optim\n",
    "import torch.nn.functional as F\n",
    "\n",
    "import torchvision.transforms as transforms\n",
    "import torchvision.datasets as datasets\n",
    "\n",
    "\n",
    "class MyModel(nn.Module):\n",
    "    def __init__(self):\n",
    "        super(MyModel, self).__init__()\n",
    "        self.conv1 = nn.Conv2d(1, 3, 3, 1, 1)\n",
    "        self.pool1 = nn.MaxPool2d(2)\n",
    "        self.conv2 = nn.Conv2d(3, 6, 3, 1, 1)\n",
    "        self.pool2 = nn.MaxPool2d(2)\n",
    "        \n",
    "        self.conv_trans1 = nn.ConvTranspose2d(6, 3, 4, 2, 1)\n",
    "        self.conv_trans2 = nn.ConvTranspose2d(3, 1, 4, 2, 1)\n",
    "        \n",
    "    def forward(self, x):\n",
    "        x = F.relu(self.pool1(self.conv1(x)))\n",
    "        x = F.relu(self.pool2(self.conv2(x)))        \n",
    "        x = F.relu(self.conv_trans1(x))\n",
    "        x = self.conv_trans2(x)\n",
    "        return x\n",
    "\n",
    "dataset = datasets.MNIST(\n",
    "    root='PATH',\n",
    "    transform=transforms.ToTensor()\n",
    ")\n",
    "loader = DataLoader(\n",
    "    dataset,\n",
    "    num_workers=2,\n",
    "    batch_size=8,\n",
    "    shuffle=True\n",
    ")\n",
    "\n",
    "model = MyModel()\n",
    "criterion = nn.BCEWithLogitsLoss()\n",
    "optimizer = optim.Adam(model.parameters(), lr=1e-3)\n",
    "\n",
    "epochs = 1\n",
    "for epoch in range(epochs):\n",
    "    for batch_idx, (data, target) in enumerate(loader):\n",
    "        optimizer.zero_grad()\n",
    "        output = model(data)\n",
    "        loss = criterion(output, data)\n",
    "        loss.backward()\n",
    "        optimizer.step()\n",
    "        \n",
    "        print('Epoch {}, Batch idx {}, loss {}'.format(\n",
    "            epoch, batch_idx, loss.item()))\n",
    "\n",
    "\n",
    "def normalize_output(img):\n",
    "    img = img - img.min()\n",
    "    img = img / img.max()\n",
    "    return img\n",
    "\n",
    "# Plot some images\n",
    "idx = torch.randint(0, output.size(0), ())\n",
    "pred = normalize_output(output[idx, 0])\n",
    "img = data[idx, 0]\n",
    "\n",
    "fig, axarr = plt.subplots(1, 2)\n",
    "axarr[0].imshow(img.detach().numpy())\n",
    "axarr[1].imshow(pred.detach().numpy())\n",
    "\n",
    "# Visualize feature maps\n",
    "activation = {}\n",
    "def get_activation(name):\n",
    "    def hook(model, input, output):\n",
    "        activation[name] = output.detach()\n",
    "    return hook\n",
    "\n",
    "model.conv1.register_forward_hook(get_activation('conv1'))\n",
    "data, _ = dataset[0]\n",
    "data.unsqueeze_(0)\n",
    "output = model(data)\n",
    "\n",
    "act = activation['conv1'].squeeze()\n",
    "fig, axarr = plt.subplots(act.size(0))\n",
    "for idx in range(act.size(0)):\n",
    "    axarr[idx].imshow(act[idx])"
   ]
  }
 ],
 "metadata": {
  "kernelspec": {
   "display_name": "Python 3",
   "language": "python",
   "name": "python3"
  },
  "language_info": {
   "codemirror_mode": {
    "name": "ipython",
    "version": 3
   },
   "file_extension": ".py",
   "mimetype": "text/x-python",
   "name": "python",
   "nbconvert_exporter": "python",
   "pygments_lexer": "ipython3",
   "version": "3.7.7"
  }
 },
 "nbformat": 4,
 "nbformat_minor": 4
}
