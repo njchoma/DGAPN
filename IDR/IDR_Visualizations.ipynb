{
 "cells": [
  {
   "cell_type": "code",
   "execution_count": 3,
   "metadata": {},
   "outputs": [],
   "source": [
    "import os\n",
    "import csv\n",
    "import networkx as nx\n",
    "import pandas as pd\n",
    "from random import shuffle\n",
    "\n",
    "from IPython.display import display, SVG\n",
    "\n",
    "from rdkit import Chem\n",
    "from rdkit.Chem import AllChem\n",
    "from rdkit.Chem import rdDepictor\n",
    "from rdkit.Chem import Descriptors\n",
    "from rdkit.Chem.Draw import rdMolDraw2D\n",
    "from rdkit.Chem import Draw"
   ]
  },
  {
   "cell_type": "code",
   "execution_count": 17,
   "metadata": {},
   "outputs": [
    {
     "name": "stdout",
     "output_type": "stream",
     "text": [
      "(2907, 13) (2928, 13) (2921, 13) (2869, 13) (2935, 2)\n"
     ]
    }
   ],
   "source": [
    "data_3CLPro_7BQY_A_1_F = pd.read_csv(\"docking_data_idr/3CLPro_7BQY_A_1_F.csv\")\n",
    "data_NSP15_6W01_AB_1_F = pd.read_csv(\"docking_data_idr/NSP15_6W01_AB_1_F.csv\")\n",
    "data_NSP16_6W61_A_1_H = pd.read_csv(\"docking_data_idr/NSP16_6W61_A_1_H.csv\")\n",
    "data_PLPro_6W9C_A_2_F = pd.read_csv(\"docking_data_idr/PLPro_6W9C_A_2_F.csv\")\n",
    "smiles = pd.read_csv(\"docking_data_idr/ORD.mini.sorted.csv\", header = 0, names = [\"SMILE\", \"Title\"])\n",
    "print(data_3CLPro_7BQY_A_1_F.shape, data_NSP15_6W01_AB_1_F.shape, data_NSP16_6W61_A_1_H.shape,\\\n",
    "      data_PLPro_6W9C_A_2_F.shape, smiles.shape)"
   ]
  },
  {
   "cell_type": "code",
   "execution_count": 18,
   "metadata": {},
   "outputs": [
    {
     "data": {
      "text/html": [
       "<div>\n",
       "<style scoped>\n",
       "    .dataframe tbody tr th:only-of-type {\n",
       "        vertical-align: middle;\n",
       "    }\n",
       "\n",
       "    .dataframe tbody tr th {\n",
       "        vertical-align: top;\n",
       "    }\n",
       "\n",
       "    .dataframe thead th {\n",
       "        text-align: right;\n",
       "    }\n",
       "</style>\n",
       "<table border=\"1\" class=\"dataframe\">\n",
       "  <thead>\n",
       "    <tr style=\"text-align: right;\">\n",
       "      <th></th>\n",
       "      <th>Title</th>\n",
       "      <th>Score_vina</th>\n",
       "      <th>rank_vina</th>\n",
       "      <th>percentile_vina</th>\n",
       "      <th>Score_fred</th>\n",
       "      <th>rank_fred</th>\n",
       "      <th>percentile_fred</th>\n",
       "      <th>Score_dock</th>\n",
       "      <th>rank_dock</th>\n",
       "      <th>percentile_dock</th>\n",
       "      <th>local_idr</th>\n",
       "      <th>global_idr</th>\n",
       "      <th>max_percentile</th>\n",
       "    </tr>\n",
       "  </thead>\n",
       "  <tbody>\n",
       "    <tr>\n",
       "      <th>2491</th>\n",
       "      <td>ORD-MCULE-3967726014_1</td>\n",
       "      <td>-7.25</td>\n",
       "      <td>422.0</td>\n",
       "      <td>0.144</td>\n",
       "      <td>-10.961745</td>\n",
       "      <td>2595.0</td>\n",
       "      <td>0.884</td>\n",
       "      <td>-35.589</td>\n",
       "      <td>1505.0</td>\n",
       "      <td>0.483</td>\n",
       "      <td>0.934231</td>\n",
       "      <td>0.54347</td>\n",
       "      <td>0.884</td>\n",
       "    </tr>\n",
       "  </tbody>\n",
       "</table>\n",
       "</div>"
      ],
      "text/plain": [
       "                       Title  Score_vina  rank_vina  percentile_vina  \\\n",
       "2491  ORD-MCULE-3967726014_1       -7.25      422.0            0.144   \n",
       "\n",
       "      Score_fred  rank_fred  percentile_fred  Score_dock  rank_dock  \\\n",
       "2491  -10.961745     2595.0            0.884     -35.589     1505.0   \n",
       "\n",
       "      percentile_dock  local_idr  global_idr  max_percentile  \n",
       "2491            0.483   0.934231     0.54347           0.884  "
      ]
     },
     "execution_count": 18,
     "metadata": {},
     "output_type": "execute_result"
    }
   ],
   "source": [
    "# There are some duplicates.\n",
    "data_3CLPro_7BQY_A_1_F[data_3CLPro_7BQY_A_1_F[[\"Title\"]].duplicated()]"
   ]
  },
  {
   "cell_type": "code",
   "execution_count": 19,
   "metadata": {},
   "outputs": [
    {
     "name": "stdout",
     "output_type": "stream",
     "text": [
      "(2908, 14) (2929, 14) (2922, 14) (2870, 14)\n"
     ]
    }
   ],
   "source": [
    "smiles_3CLPro_7BQY_A_1_F = pd.merge(data_3CLPro_7BQY_A_1_F, smiles, how = 'inner', on = \"Title\")\n",
    "smiles_NSP15_6W01_AB_1_F = pd.merge(data_NSP15_6W01_AB_1_F, smiles, how = 'inner', on = \"Title\")\n",
    "smiles_NSP16_6W61_A_1_H  = pd.merge(data_NSP16_6W61_A_1_H, smiles, how = 'inner', on = \"Title\")\n",
    "smiles_PLPro_6W9C_A_2_F  = pd.merge(data_PLPro_6W9C_A_2_F, smiles, how = 'inner', on = \"Title\")\n",
    "print(smiles_3CLPro_7BQY_A_1_F.shape, smiles_NSP15_6W01_AB_1_F.shape, smiles_NSP16_6W61_A_1_H.shape,\\\n",
    "      smiles_PLPro_6W9C_A_2_F.shape)"
   ]
  },
  {
   "cell_type": "code",
   "execution_count": 20,
   "metadata": {},
   "outputs": [
    {
     "name": "stdout",
     "output_type": "stream",
     "text": [
      "(2908, 14) (2929, 14) (2922, 14) (2870, 14)\n"
     ]
    }
   ],
   "source": [
    "smiles_3CLPro_7BQY_A_1_F = smiles_3CLPro_7BQY_A_1_F.rename(columns={'Score_vina':'vina_3CLPro', 'Score_fred':'fred_3CLPro','Score_dock':'dock_3CLPro'})\n",
    "smiles_NSP15_6W01_AB_1_F = smiles_NSP15_6W01_AB_1_F.rename(columns={'Score_vina':'vina_NSP15', 'Score_fred':'fred_NSP15','Score_dock':'dock_NSP15'})\n",
    "smiles_NSP16_6W61_A_1_H  = smiles_NSP16_6W61_A_1_H.rename(columns={'Score_vina':'vina_NSP16', 'Score_fred':'fred_NSP16','Score_dock':'dock_NSP16'})\n",
    "smiles_PLPro_6W9C_A_2_F  = smiles_PLPro_6W9C_A_2_F.rename(columns={'Score_vina':'vina_PLPro', 'Score_fred':'fred_PLPro','Score_dock':'dock_PLPro'})\n",
    "print(smiles_3CLPro_7BQY_A_1_F.shape, smiles_NSP15_6W01_AB_1_F.shape, smiles_NSP16_6W61_A_1_H.shape,\\\n",
    "      smiles_PLPro_6W9C_A_2_F.shape)"
   ]
  },
  {
   "cell_type": "code",
   "execution_count": 21,
   "metadata": {},
   "outputs": [],
   "source": [
    "#For Nicholas\n",
    "# from functools import reduce\n",
    "# _ = reduce(lambda left,right: pd.merge(left,right,on=\"Title\", how = 'inner'), \\\n",
    "#        [smiles_3CLPro_7BQY_A_1_F.iloc[:,[0,-1,1,4,7]], smiles_NSP15_6W01_AB_1_F.iloc[:,[0,-1,1,4,7]],\\\n",
    "#         smiles_NSP16_6W61_A_1_H.iloc[:,[0,-1,1,4,7]], smiles_PLPro_6W9C_A_2_F.iloc[:,[0,-1,1,4,7]]])\n",
    "# _ = _[~_[['Title']].duplicated()] "
   ]
  },
  {
   "cell_type": "code",
   "execution_count": 22,
   "metadata": {},
   "outputs": [],
   "source": [
    "#_.iloc[:,[0,1,2,3,4,6,7,8,10,11,12]].to_csv(\"Multilabel_data.csv\", index = False)"
   ]
  },
  {
   "cell_type": "code",
   "execution_count": 24,
   "metadata": {},
   "outputs": [
    {
     "name": "stdout",
     "output_type": "stream",
     "text": [
      "(251, 14) (71, 14) (95, 14) (76, 14)\n"
     ]
    }
   ],
   "source": [
    "#Thresholding\n",
    "smiles_3CLPro_7BQY_A_1_F = smiles_3CLPro_7BQY_A_1_F[smiles_3CLPro_7BQY_A_1_F['global_idr'] < 0.05].sort_values('global_idr')\n",
    "smiles_NSP15_6W01_AB_1_F = smiles_NSP15_6W01_AB_1_F[smiles_NSP15_6W01_AB_1_F['global_idr'] < 0.05].sort_values('global_idr')\n",
    "smiles_NSP16_6W61_A_1_H  = smiles_NSP16_6W61_A_1_H[smiles_NSP16_6W61_A_1_H['global_idr'] < 0.05].sort_values('global_idr')\n",
    "smiles_PLPro_6W9C_A_2_F  = smiles_PLPro_6W9C_A_2_F[smiles_PLPro_6W9C_A_2_F['global_idr'] < 0.05].sort_values('global_idr')\n",
    "print(smiles_3CLPro_7BQY_A_1_F.shape, smiles_NSP15_6W01_AB_1_F.shape, smiles_NSP16_6W61_A_1_H.shape,\\\n",
    "      smiles_PLPro_6W9C_A_2_F.shape)"
   ]
  },
  {
   "cell_type": "code",
   "execution_count": 25,
   "metadata": {},
   "outputs": [],
   "source": [
    "mols_3CLPro_7BQY_A_1_F = [Chem.MolFromSmiles(i) for i in smiles_3CLPro_7BQY_A_1_F['SMILE']]\n",
    "mols_NSP15_6W01_AB_1_F = [Chem.MolFromSmiles(i) for i in smiles_NSP15_6W01_AB_1_F['SMILE']]\n",
    "mols_NSP16_6W61_A_1_H  = [Chem.MolFromSmiles(i) for i in smiles_NSP16_6W61_A_1_H['SMILE']]\n",
    "mols_PLPro_6W9C_A_2_F  = [Chem.MolFromSmiles(i) for i in smiles_PLPro_6W9C_A_2_F['SMILE']]"
   ]
  },
  {
   "cell_type": "code",
   "execution_count": 31,
   "metadata": {},
   "outputs": [],
   "source": [
    "import matplotlib.pyplot as plt\n",
    "from matplotlib.backends.backend_pdf import PdfPages\n",
    "\n",
    "with PdfPages('IDR_Threshold_3CLPro_7BQY_A_1_F.pdf') as pdf:\n",
    "    for i in range(len(mols_3CLPro_7BQY_A_1_F)):\n",
    "        #Descriptors\n",
    "        mollogp = Descriptors.MolLogP(mols_3CLPro_7BQY_A_1_F[i])\n",
    "        qed = Descriptors.qed(mols_3CLPro_7BQY_A_1_F[i])\n",
    "        #Drawing\n",
    "        fig = Draw.MolToMPL(mols_3CLPro_7BQY_A_1_F[i], size=(300,300))\n",
    "        plt.title(str(i+1))\n",
    "        plt.text(0.01,0.15, \"MolLogP: \" + str(mollogp) + \" | \" + \"QED: \" + str(qed))\n",
    "        plt.text(0.01,0.1,smiles_3CLPro_7BQY_A_1_F['SMILE'].values[i])\n",
    "        plt.text(0.01,0.05,smiles_3CLPro_7BQY_A_1_F['Title'].values[i])\n",
    "        pdf.savefig(fig, bbox_inches = \"tight\")  # saves the current figure into a pdf page\n",
    "        plt.close()\n",
    "        \n",
    "with PdfPages('IDR_Threshold_NSP15_6W01_AB_1_F.pdf') as pdf:\n",
    "    for i in range(len(mols_NSP15_6W01_AB_1_F)):\n",
    "        mollogp = Descriptors.MolLogP(mols_NSP15_6W01_AB_1_F[i])\n",
    "        qed = Descriptors.qed(mols_NSP15_6W01_AB_1_F[i])        \n",
    "        fig = Draw.MolToMPL(mols_NSP15_6W01_AB_1_F[i], size=(300,300))\n",
    "        plt.title(str(i+1))\n",
    "        plt.text(0.01,0.15, \"MolLogP: \" + str(mollogp) + \" | \" + \"QED: \" + str(qed))        \n",
    "        plt.text(0.01,0.1,smiles_NSP15_6W01_AB_1_F['SMILE'].values[i])\n",
    "        plt.text(0.01,0.05,smiles_NSP15_6W01_AB_1_F['Title'].values[i])\n",
    "        pdf.savefig(fig, bbox_inches = \"tight\")  # saves the current figure into a pdf page\n",
    "        plt.close()\n",
    "        \n",
    "with PdfPages('IDR_Threshold_NSP16_6W61_A_1_H.pdf') as pdf:\n",
    "    for i in range(len(mols_NSP16_6W61_A_1_H)):\n",
    "        mollogp = Descriptors.MolLogP(mols_NSP16_6W61_A_1_H[i])\n",
    "        qed = Descriptors.qed(mols_NSP16_6W61_A_1_H[i])        \n",
    "        \n",
    "        fig = Draw.MolToMPL(mols_NSP16_6W61_A_1_H[i], size=(300,300))\n",
    "        plt.title(str(i+1))\n",
    "        plt.text(0.01,0.15, \"MolLogP: \" + str(mollogp) + \" | \" + \"QED: \" + str(qed))\n",
    "        plt.text(0.01,0.1,smiles_NSP16_6W61_A_1_H['SMILE'].values[i])\n",
    "        plt.text(0.01,0.05,smiles_NSP16_6W61_A_1_H['Title'].values[i])\n",
    "        pdf.savefig(fig, bbox_inches = \"tight\")  # saves the current figure into a pdf page\n",
    "        plt.close()\n",
    "        \n",
    "with PdfPages('IDR_Threshold_PLPro_6W9C_A_2_F.pdf') as pdf:\n",
    "    for i in range(len(mols_PLPro_6W9C_A_2_F)):\n",
    "        mollogp = Descriptors.MolLogP(mols_PLPro_6W9C_A_2_F[i])\n",
    "        qed = Descriptors.qed(mols_PLPro_6W9C_A_2_F[i])        \n",
    "        \n",
    "        fig = Draw.MolToMPL(mols_PLPro_6W9C_A_2_F[i], size=(300,300))\n",
    "        plt.title(str(i+1))\n",
    "        plt.text(0.01,0.15, \"MolLogP: \" + str(mollogp) + \" | \" + \"QED: \" + str(qed))\n",
    "        plt.text(0.01,0.1,smiles_PLPro_6W9C_A_2_F['SMILE'].values[i])\n",
    "        plt.text(0.01,0.05,smiles_PLPro_6W9C_A_2_F['Title'].values[i])\n",
    "        pdf.savefig(fig, bbox_inches = \"tight\")  # saves the current figure into a pdf page\n",
    "        plt.close()"
   ]
  },
  {
   "cell_type": "code",
   "execution_count": 32,
   "metadata": {},
   "outputs": [],
   "source": [
    "# Multiple targets\n",
    "multiple_targets = pd.read_csv(\"docking_data_idr/multiple_targets.csv\")"
   ]
  },
  {
   "cell_type": "code",
   "execution_count": 33,
   "metadata": {},
   "outputs": [
    {
     "data": {
      "text/html": [
       "<div>\n",
       "<style scoped>\n",
       "    .dataframe tbody tr th:only-of-type {\n",
       "        vertical-align: middle;\n",
       "    }\n",
       "\n",
       "    .dataframe tbody tr th {\n",
       "        vertical-align: top;\n",
       "    }\n",
       "\n",
       "    .dataframe thead th {\n",
       "        text-align: right;\n",
       "    }\n",
       "</style>\n",
       "<table border=\"1\" class=\"dataframe\">\n",
       "  <thead>\n",
       "    <tr style=\"text-align: right;\">\n",
       "      <th></th>\n",
       "      <th>Interaction</th>\n",
       "      <th>Molecules</th>\n",
       "    </tr>\n",
       "  </thead>\n",
       "  <tbody>\n",
       "    <tr>\n",
       "      <th>0</th>\n",
       "      <td>('NSP15_6W01_AB_1_F', '3CLPro_7BQY_A_1_F')</td>\n",
       "      <td>{'ORD-MCULE-6477680903_1', 'ORD-MCULE-37738418...</td>\n",
       "    </tr>\n",
       "    <tr>\n",
       "      <th>1</th>\n",
       "      <td>('NSP15_6W01_AB_1_F', 'NSP16_6W61_A_1_H')</td>\n",
       "      <td>{'ORD-MCULE-6477680903_1', 'ORD-MCULE-42620917...</td>\n",
       "    </tr>\n",
       "    <tr>\n",
       "      <th>2</th>\n",
       "      <td>('NSP15_6W01_AB_1_F', 'PLPro_6W9C_A_2_F')</td>\n",
       "      <td>{'ORD-MCULE-7416131701_1', 'ORD-MCULE-93119370...</td>\n",
       "    </tr>\n",
       "    <tr>\n",
       "      <th>3</th>\n",
       "      <td>('3CLPro_7BQY_A_1_F', 'NSP16_6W61_A_1_H')</td>\n",
       "      <td>{'ORD-MCULE-1562586832_1', 'ORD-MCULE-64776809...</td>\n",
       "    </tr>\n",
       "    <tr>\n",
       "      <th>4</th>\n",
       "      <td>('3CLPro_7BQY_A_1_F', 'PLPro_6W9C_A_2_F')</td>\n",
       "      <td>{'ORD-MCULE-5739750381_1', 'ORD-MCULE-91301999...</td>\n",
       "    </tr>\n",
       "    <tr>\n",
       "      <th>5</th>\n",
       "      <td>('NSP16_6W61_A_1_H', 'PLPro_6W9C_A_2_F')</td>\n",
       "      <td>{'ORD-MCULE-7968599617_1', 'ORD-MCULE-74161317...</td>\n",
       "    </tr>\n",
       "    <tr>\n",
       "      <th>6</th>\n",
       "      <td>('NSP15_6W01_AB_1_F', '3CLPro_7BQY_A_1_F', 'NS...</td>\n",
       "      <td>{'ORD-MCULE-6977725985_1', 'ORD-MCULE-74161317...</td>\n",
       "    </tr>\n",
       "    <tr>\n",
       "      <th>7</th>\n",
       "      <td>('NSP15_6W01_AB_1_F', '3CLPro_7BQY_A_1_F', 'PL...</td>\n",
       "      <td>{'ORD-MCULE-7416131701_1', 'ORD-MCULE-93119370...</td>\n",
       "    </tr>\n",
       "    <tr>\n",
       "      <th>8</th>\n",
       "      <td>('NSP15_6W01_AB_1_F', 'NSP16_6W61_A_1_H', 'PLP...</td>\n",
       "      <td>{'ORD-MCULE-7416131701_1', 'ORD-MCULE-93119370...</td>\n",
       "    </tr>\n",
       "    <tr>\n",
       "      <th>9</th>\n",
       "      <td>('3CLPro_7BQY_A_1_F', 'NSP16_6W61_A_1_H', 'PLP...</td>\n",
       "      <td>{'ORD-MCULE-7416131701_1', 'ORD-MCULE-93119370...</td>\n",
       "    </tr>\n",
       "    <tr>\n",
       "      <th>10</th>\n",
       "      <td>('NSP15_6W01_AB_1_F', '3CLPro_7BQY_A_1_F', 'NS...</td>\n",
       "      <td>{'ORD-MCULE-7416131701_1', 'ORD-MCULE-93119370...</td>\n",
       "    </tr>\n",
       "  </tbody>\n",
       "</table>\n",
       "</div>"
      ],
      "text/plain": [
       "                                          Interaction  \\\n",
       "0          ('NSP15_6W01_AB_1_F', '3CLPro_7BQY_A_1_F')   \n",
       "1           ('NSP15_6W01_AB_1_F', 'NSP16_6W61_A_1_H')   \n",
       "2           ('NSP15_6W01_AB_1_F', 'PLPro_6W9C_A_2_F')   \n",
       "3           ('3CLPro_7BQY_A_1_F', 'NSP16_6W61_A_1_H')   \n",
       "4           ('3CLPro_7BQY_A_1_F', 'PLPro_6W9C_A_2_F')   \n",
       "5            ('NSP16_6W61_A_1_H', 'PLPro_6W9C_A_2_F')   \n",
       "6   ('NSP15_6W01_AB_1_F', '3CLPro_7BQY_A_1_F', 'NS...   \n",
       "7   ('NSP15_6W01_AB_1_F', '3CLPro_7BQY_A_1_F', 'PL...   \n",
       "8   ('NSP15_6W01_AB_1_F', 'NSP16_6W61_A_1_H', 'PLP...   \n",
       "9   ('3CLPro_7BQY_A_1_F', 'NSP16_6W61_A_1_H', 'PLP...   \n",
       "10  ('NSP15_6W01_AB_1_F', '3CLPro_7BQY_A_1_F', 'NS...   \n",
       "\n",
       "                                            Molecules  \n",
       "0   {'ORD-MCULE-6477680903_1', 'ORD-MCULE-37738418...  \n",
       "1   {'ORD-MCULE-6477680903_1', 'ORD-MCULE-42620917...  \n",
       "2   {'ORD-MCULE-7416131701_1', 'ORD-MCULE-93119370...  \n",
       "3   {'ORD-MCULE-1562586832_1', 'ORD-MCULE-64776809...  \n",
       "4   {'ORD-MCULE-5739750381_1', 'ORD-MCULE-91301999...  \n",
       "5   {'ORD-MCULE-7968599617_1', 'ORD-MCULE-74161317...  \n",
       "6   {'ORD-MCULE-6977725985_1', 'ORD-MCULE-74161317...  \n",
       "7   {'ORD-MCULE-7416131701_1', 'ORD-MCULE-93119370...  \n",
       "8   {'ORD-MCULE-7416131701_1', 'ORD-MCULE-93119370...  \n",
       "9   {'ORD-MCULE-7416131701_1', 'ORD-MCULE-93119370...  \n",
       "10  {'ORD-MCULE-7416131701_1', 'ORD-MCULE-93119370...  "
      ]
     },
     "execution_count": 33,
     "metadata": {},
     "output_type": "execute_result"
    }
   ],
   "source": [
    "multiple_targets"
   ]
  },
  {
   "cell_type": "code",
   "execution_count": 34,
   "metadata": {},
   "outputs": [],
   "source": [
    "with PdfPages('Multiple_Targets.pdf') as pdf:\n",
    "    for i in range(multiple_targets.shape[0]):\n",
    "        interaction = multiple_targets['Interaction'][i]\n",
    "        mol_data = multiple_targets['Molecules'][i]\n",
    "        \n",
    "        #Filtered Dataframe according to multipletargets data\n",
    "        arr = mol_data.replace(\"'\",\"\").replace(\"{\",\"\").replace(\"}\",\"\").replace(\" \",\"\").split(\",\")\n",
    "        _ = pd.DataFrame({'Title':arr})\n",
    "        filtered_df = pd.merge(smiles, _, how = 'inner', on = \"Title\")\n",
    "        smile_filter = filtered_df['SMILE'].values\n",
    "        title_filter = filtered_df['Title'].values\n",
    "\n",
    "        mols = [Chem.MolFromSmiles(i) for i in smile_filter]\n",
    "        for j in range(len(mols)):\n",
    "            mollogp = Descriptors.MolLogP(mols[j])\n",
    "            qed = Descriptors.qed(mols[j])\n",
    "            \n",
    "            fig = Draw.MolToMPL(mols[j], size = (300,300))\n",
    "            plt.title(interaction)\n",
    "            plt.text(0.01,0.15, \"MolLogP: \" + str(mollogp) + \" | \" + \"QED: \" + str(qed))\n",
    "            plt.text(0.01,0.1,smile_filter[j])\n",
    "            plt.text(0.01,0.05,title_filter[j])\n",
    "            pdf.savefig(fig, bbox_inches = \"tight\")\n",
    "            plt.close()"
   ]
  }
 ],
 "metadata": {
  "kernelspec": {
   "display_name": "Python 3",
   "language": "python",
   "name": "python3"
  },
  "language_info": {
   "codemirror_mode": {
    "name": "ipython",
    "version": 3
   },
   "file_extension": ".py",
   "mimetype": "text/x-python",
   "name": "python",
   "nbconvert_exporter": "python",
   "pygments_lexer": "ipython3",
   "version": "3.7.7"
  }
 },
 "nbformat": 4,
 "nbformat_minor": 4
}
